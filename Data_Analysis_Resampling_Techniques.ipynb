{
  "nbformat": 4,
  "nbformat_minor": 0,
  "metadata": {
    "colab": {
      "provenance": [],
      "include_colab_link": true
    },
    "kernelspec": {
      "name": "python3",
      "display_name": "Python 3"
    },
    "language_info": {
      "name": "python"
    }
  },
  "cells": [
    {
      "cell_type": "markdown",
      "metadata": {
        "id": "view-in-github",
        "colab_type": "text"
      },
      "source": [
        "<a href=\"https://colab.research.google.com/github/jyothirmai318/Data-Analysis/blob/main/Data_Analysis_Resampling_Techniques.ipynb\" target=\"_parent\"><img src=\"https://colab.research.google.com/assets/colab-badge.svg\" alt=\"Open In Colab\"/></a>"
      ]
    },
    {
      "cell_type": "markdown",
      "source": [
        "#Resampling Techniques"
      ],
      "metadata": {
        "id": "79XaToGcQjxt"
      }
    },
    {
      "cell_type": "markdown",
      "source": [
        "###Probability Example"
      ],
      "metadata": {
        "id": "AE58KoZLzcvl"
      }
    },
    {
      "cell_type": "markdown",
      "source": [
        "Here we will review the difference between sampling with and without replacement. We will calculate the probability of an event using simulation.Consider a bowl filled with colored candies - three blue, two green, and five yellow. Draw three candies at random, with replacement and without replacement. You want to know the probability of drawing a yellow candy on the third draw given that the first candy was blue and the second candy was green."
      ],
      "metadata": {
        "id": "S8k6T8fSzguh"
      }
    },
    {
      "cell_type": "code",
      "execution_count": null,
      "metadata": {
        "colab": {
          "base_uri": "https://localhost:8080/"
        },
        "id": "t8rjhKl_zLUK",
        "outputId": "9bc51211-3f25-49c5-a836-8403f5c5d1e7"
      },
      "outputs": [
        {
          "output_type": "stream",
          "name": "stdout",
          "text": [
            "Probability with replacement = 0.0266, without replacement = 0.0415\n"
          ]
        }
      ],
      "source": [
        "import numpy as np\n",
        "np.random.seed(123)\n",
        "\n",
        "# Set up the bowl\n",
        "success_rep, success_no_rep, sims = 0, 0, 10000\n",
        "bowl = ['b', 'b', 'b', 'g', 'g', 'y', 'y', 'y', 'y', 'y']\n",
        "\n",
        "for i in range(sims):\n",
        "    # Sample with and without replacement & increment success counters\n",
        "    sample_rep = np.random.choice(bowl, size=3, replace=True)\n",
        "    sample_no_rep = np.random.choice(bowl, size=3, replace=False)\n",
        "    if (sample_rep[0] == 'b') & (sample_rep[1] == 'g') & (sample_rep[2] == 'y'):\n",
        "        success_rep += 1\n",
        "    if (sample_no_rep[0] == 'b') & (sample_no_rep[1] == 'g') & (sample_no_rep[2] == 'y'):\n",
        "        success_no_rep += 1\n",
        "\n",
        "# Calculate probabilities\n",
        "prob_with_replacement = success_rep / sims\n",
        "prob_without_replacement = success_no_rep / sims\n",
        "print(\"Probability with replacement = {}, without replacement = {}\".format(prob_with_replacement,\n",
        "                                                                           prob_without_replacement))"
      ]
    },
    {
      "cell_type": "markdown",
      "source": [
        "####Question 1(a)"
      ],
      "metadata": {
        "id": "fX0Fa7SM11vV"
      }
    },
    {
      "cell_type": "markdown",
      "source": [
        "Calculate the probability using simulation. A box contains 10 white balls, 20 reds and 30 greens. Draw 5 balls with replacement. What is the probability that\n",
        "a. 3 white or 2 red\n",
        "b. All 5 are the same color"
      ],
      "metadata": {
        "id": "Yv1XYJ6w1Vic"
      }
    },
    {
      "cell_type": "code",
      "source": [
        "np.random.seed(123)\n",
        "success_a, success_b, sims = 0, 0, 10000\n",
        "bowl = ['white'] * 10 + ['red'] * 20 + ['green'] * 30\n",
        "for i in range(sims):\n",
        "    sample = np.random.choice(bowl, size=5, replace=True)\n",
        "    if (np.sum(sample == 'white') == 3) or (np.sum(sample == 'red') == 2):\n",
        "        success_a += 1\n",
        "    if len(set(sample)) == 1:\n",
        "        success_b += 1\n",
        "prob_a = success_a / sims\n",
        "prob_b = success_b / sims\n",
        "\n",
        "print(\"Probability of 3 white or 2 red:\", prob_a)\n",
        "print(\"Probability that all 5 are the same color:\", prob_b)\n"
      ],
      "metadata": {
        "id": "QTczt4qc1xNv",
        "colab": {
          "base_uri": "https://localhost:8080/"
        },
        "outputId": "a9ea8eb5-191f-46f2-a880-b735f8fbd6c4"
      },
      "execution_count": null,
      "outputs": [
        {
          "output_type": "stream",
          "name": "stdout",
          "text": [
            "Probability of 3 white or 2 red: 0.36\n",
            "Probability that all 5 are the same color: 0.0367\n"
          ]
        }
      ]
    },
    {
      "cell_type": "markdown",
      "source": [
        "####Question 1(b):"
      ],
      "metadata": {
        "id": "nWy1HwgE2fgS"
      }
    },
    {
      "cell_type": "markdown",
      "source": [
        "Two unbiased dice are thrown once and the total score is observed. Use a simulation to find the estimated probability that the total score is even or greater than 7."
      ],
      "metadata": {
        "id": "Eu2q4BdM1zxS"
      }
    },
    {
      "cell_type": "code",
      "source": [
        "#Write your code here\n",
        "np.random.seed(123)\n",
        "success_a,sims = 0,10000\n",
        "for i in range(sims):\n",
        "    die1 = np.random.randint(1, 6)\n",
        "    die2 = np.random.randint(1, 6)\n",
        "    total_score = die1 + die2\n",
        "    if (total_score % 2 == 0) or (total_score > 7):\n",
        "        success_a += 1\n",
        "probability = success_a / sims\n",
        "print(\"Estimated probability that the total score is even or greater than 7:\", probability)\n"
      ],
      "metadata": {
        "id": "FCaZOzdb2kSX",
        "colab": {
          "base_uri": "https://localhost:8080/"
        },
        "outputId": "75df1f22-e6a1-4bd1-8ed2-077a59c30d54"
      },
      "execution_count": null,
      "outputs": [
        {
          "output_type": "stream",
          "name": "stdout",
          "text": [
            "Estimated probability that the total score is even or greater than 7: 0.5988\n"
          ]
        }
      ]
    },
    {
      "cell_type": "markdown",
      "source": [
        "###BootStrapping"
      ],
      "metadata": {
        "id": "-qA0BGEo6IA-"
      }
    },
    {
      "cell_type": "code",
      "source": [
        "import glob\n",
        "import matplotlib.pyplot as plt\n",
        "import numpy as np\n",
        "import pandas as pd\n",
        "%matplotlib inline\n",
        "%precision 4\n",
        "plt.style.use('ggplot')"
      ],
      "metadata": {
        "id": "vcfxhvS65cLd"
      },
      "execution_count": null,
      "outputs": []
    },
    {
      "cell_type": "code",
      "source": [
        "# For example, what is the 95% confidence interval for\n",
        "# the mean of this data set if you didn't know how it was generated?\n",
        "\n",
        "x = np.concatenate([np.random.exponential(size=200), np.random.normal(size=100)])\n",
        "plt.hist(x, 25, histtype='step');"
      ],
      "metadata": {
        "colab": {
          "base_uri": "https://localhost:8080/",
          "height": 430
        },
        "id": "wPKYc1Mp5f91",
        "outputId": "e8d1c0fa-8ded-4516-8d28-38351b64c5e1"
      },
      "execution_count": null,
      "outputs": [
        {
          "output_type": "display_data",
          "data": {
            "text/plain": [
              "<Figure size 640x480 with 1 Axes>"
            ],
            "image/png": "[encoded data removed]"
          },
          "metadata": {}
        }
      ]
    },
    {
      "cell_type": "code",
      "source": [
        "n = len(x)\n",
        "reps = 10000\n",
        "xb = np.random.choice(x, (n, reps))\n",
        "mb = xb.mean(axis=0)\n",
        "mb.sort()\n",
        "\n",
        "np.percentile(mb, [2.5, 97.5])"
      ],
      "metadata": {
        "colab": {
          "base_uri": "https://localhost:8080/"
        },
        "id": "RRErCrOK5jK8",
        "outputId": "03ad1e24-9b1d-4721-bff0-a64a5890a6fd"
      },
      "execution_count": null,
      "outputs": [
        {
          "output_type": "execute_result",
          "data": {
            "text/plain": [
              "array([0.6382, 0.8901])"
            ]
          },
          "metadata": {},
          "execution_count": 10
        }
      ]
    },
    {
      "cell_type": "markdown",
      "source": [
        "###Reprise of bootstrap example for Monte Carlo integration"
      ],
      "metadata": {
        "id": "3bSWR1NT6Ojl"
      }
    },
    {
      "cell_type": "code",
      "source": [
        "def f(x):\n",
        "    return x * np.cos(71*x) + np.sin(13*x)"
      ],
      "metadata": {
        "id": "Vfh5qjko5mWa"
      },
      "execution_count": null,
      "outputs": []
    },
    {
      "cell_type": "code",
      "source": [
        "# data sample for integration\n",
        "n = 100\n",
        "x = f(np.random.random(n))"
      ],
      "metadata": {
        "id": "iRzbm24T5rhR"
      },
      "execution_count": null,
      "outputs": []
    },
    {
      "cell_type": "code",
      "source": [
        "# bootstrap MC integration\n",
        "reps = 1000\n",
        "xb = np.random.choice(x, (n, reps), replace=True)\n",
        "yb = 1/np.arange(1, n+1)[:, None] * np.cumsum(xb, axis=0)\n",
        "upper, lower = np.percentile(yb, [2.5, 97.5], axis=1)"
      ],
      "metadata": {
        "id": "o0xqtA5I5spB"
      },
      "execution_count": null,
      "outputs": []
    },
    {
      "cell_type": "code",
      "source": [
        "plt.plot(np.arange(1, n+1)[:, None], yb, c='grey', alpha=0.02)\n",
        "plt.plot(np.arange(1, n+1), yb[:, 0], c='red', linewidth=1)\n",
        "plt.plot(np.arange(1, n+1), upper, 'b', np.arange(1, n+1), lower, 'b');"
      ],
      "metadata": {
        "colab": {
          "base_uri": "https://localhost:8080/",
          "height": 430
        },
        "id": "dFlwmDxF5wHk",
        "outputId": "056af241-0163-48f7-b016-48d7ccdb4ab6"
      },
      "execution_count": null,
      "outputs": [
        {
          "output_type": "display_data",
          "data": {
            "text/plain": [
              "<Figure size 640x480 with 1 Axes>"
            ],
            "image/png": "[encoded data removed]"
          },
          "metadata": {}
        }
      ]
    },
    {
      "cell_type": "markdown",
      "source": [
        "###BootStrap Example"
      ],
      "metadata": {
        "id": "l6s36BEZ7NhX"
      }
    },
    {
      "cell_type": "markdown",
      "source": [
        "###Running a Simple BootStrap"
      ],
      "metadata": {
        "id": "KRJr7vIA8sKS"
      }
    },
    {
      "cell_type": "markdown",
      "source": [
        "Suppose you own a factory that produces wrenches. You want to be able to characterize the average length of the wrenches and ensure that they meet some specifications. Your factory produces thousands of wrenches every day, but it's infeasible to measure the length of each wrench. However, you have access to a representative sample of 100 wrenches. Let's use bootstrapping to get the 95% confidence interval (CI) for the average lengths."
      ],
      "metadata": {
        "id": "7r32Xvvf8u0a"
      }
    },
    {
      "cell_type": "code",
      "source": [
        "wrench_lengths = np.array([ 8.9143694 , 10.99734545, 10.2829785 ,  8.49370529,  9.42139975,\n",
        "       11.65143654,  7.57332076,  9.57108737, 11.26593626,  9.1332596 ,\n",
        "        9.32111385,  9.90529103, 11.49138963,  9.361098  ,  9.55601804,\n",
        "        9.56564872, 12.20593008, 12.18678609, 11.0040539 , 10.3861864 ,\n",
        "       10.73736858, 11.49073203,  9.06416613, 11.17582904,  8.74611933,\n",
        "        9.3622485 , 10.9071052 ,  8.5713193 ,  9.85993128,  9.1382451 ,\n",
        "        9.74438063,  7.20141089,  8.2284669 ,  9.30012277, 10.92746243,\n",
        "        9.82636432, 10.00284592, 10.68822271,  9.12046366, 10.28362732,\n",
        "        9.19463348,  8.27233051,  9.60910021, 10.57380586, 10.33858905,\n",
        "        9.98816951, 12.39236527, 10.41291216, 10.97873601, 12.23814334,\n",
        "        8.70591468,  8.96121179, 11.74371223,  9.20193726, 10.02968323,\n",
        "       11.06931597, 10.89070639, 11.75488618, 11.49564414, 11.06939267,\n",
        "        9.22729129, 10.79486267, 10.31427199,  8.67373454, 11.41729905,\n",
        "       10.80723653, 10.04549008,  9.76690794,  8.80169886, 10.19952407,\n",
        "       10.46843912,  9.16884502, 11.16220405,  8.90279695,  7.87689965,\n",
        "       11.03972709,  9.59663396,  9.87397041,  9.16248328,  8.39403724,\n",
        "       11.25523737,  9.31113102, 11.66095249, 10.80730819,  9.68524185,\n",
        "        8.9140976 ,  9.26753801,  8.78747687, 12.08711336, 10.16444123,\n",
        "       11.15020554,  8.73264795, 10.18103513, 11.17786194,  9.66498924,\n",
        "       11.03111446,  8.91543209,  8.63652846, 10.37940061,  9.62082357])"
      ],
      "metadata": {
        "id": "h2vOyGEu83dS"
      },
      "execution_count": null,
      "outputs": []
    },
    {
      "cell_type": "code",
      "source": [
        "np.random.seed(123)\n",
        "\n",
        "# Draw some random sample with replacement and append mean to mean_lengths.\n",
        "mean_lengths, sims = [], 1000\n",
        "for i in range(sims):\n",
        "    temp_sample = np.random.choice(wrench_lengths, replace=True, size=len(wrench_lengths))\n",
        "    sample_mean = np.mean(temp_sample)\n",
        "    mean_lengths.append(sample_mean)\n",
        "\n",
        "# Calculate bootstrapped mean and 95% confidence interval.\n",
        "boot_mean = np.mean(mean_lengths)\n",
        "boot_95_ci = np.percentile(mean_lengths, [2.5, 97.5])\n",
        "print(\"Bootstrapped Mean Length = {}, 95% CI = {}\".format(boot_mean, boot_95_ci))"
      ],
      "metadata": {
        "colab": {
          "base_uri": "https://localhost:8080/"
        },
        "id": "Pexlb2Y-87kK",
        "outputId": "46f6160c-1b69-472d-fb38-f68b8fd9d13d"
      },
      "execution_count": null,
      "outputs": [
        {
          "output_type": "stream",
          "name": "stdout",
          "text": [
            "Bootstrapped Mean Length = 10.0270443060217, 95% CI = [ 9.8045 10.2577]\n"
          ]
        }
      ]
    },
    {
      "cell_type": "markdown",
      "source": [
        "Calculate the 95% bootstrapped confidence interval for the median value.\n",
        "####data = [7, 9, 10, 10, 12, 14, 15, 16, 16, 17, 19, 20, 21, 21, 23]"
      ],
      "metadata": {
        "id": "Cob3RJKT8_vv"
      }
    },
    {
      "cell_type": "code",
      "source": [
        "np.random.seed(123)\n",
        "data = [7, 9, 10, 10, 12, 14, 15, 16, 16, 17, 19, 20, 21, 21, 23]\n",
        "median_length, sims = [], 1000\n",
        "for i in range(sims):\n",
        "    temp_sample = np.random.choice(data, replace=True, size=len(data))\n",
        "    sample_median = np.median(temp_sample)\n",
        "    median_length.append(sample_median)\n",
        "boot_median = np.median(median_length)\n",
        "boot_95_ci = np.percentile(median_length, [2.5, 97.5])\n",
        "\n",
        "print(\"Bootstrapped Median = {}, 95% CI = {}\".format(boot_median, boot_95_ci))\n"
      ],
      "metadata": {
        "colab": {
          "base_uri": "https://localhost:8080/"
        },
        "id": "JwDIMBLWS73q",
        "outputId": "aed40ad2-37c6-418c-8342-1d3677feae8b"
      },
      "execution_count": null,
      "outputs": [
        {
          "output_type": "stream",
          "name": "stdout",
          "text": [
            "Bootstrapped Median = 16.0, 95% CI = [11.95 20.  ]\n"
          ]
        }
      ]
    },
    {
      "cell_type": "markdown",
      "source": [
        "###Leave one out cross validation"
      ],
      "metadata": {
        "id": "kGyB2HZXG8au"
      }
    },
    {
      "cell_type": "markdown",
      "source": [
        "###1. import all the required libraries"
      ],
      "metadata": {
        "id": "gcUPcSrkHlFv"
      }
    },
    {
      "cell_type": "code",
      "source": [
        "from sklearn.model_selection import train_test_split\n",
        "from sklearn.model_selection import LeaveOneOut\n",
        "from sklearn.model_selection import cross_val_score\n",
        "from sklearn.linear_model import LinearRegression\n",
        "from numpy import mean\n",
        "from numpy import absolute\n",
        "from numpy import sqrt\n",
        "import pandas as pd"
      ],
      "metadata": {
        "id": "9w9DIJ6jHCRI"
      },
      "execution_count": null,
      "outputs": []
    },
    {
      "cell_type": "markdown",
      "source": [
        "###2. Create the data"
      ],
      "metadata": {
        "id": "9_aoI932Huw9"
      }
    },
    {
      "cell_type": "code",
      "source": [
        "df = pd.DataFrame({'y': [6, 8, 12, 14, 14, 15, 17, 22, 24, 23],\n",
        "                   'x1': [2, 5, 4, 3, 4, 6, 7, 5, 8, 9],\n",
        "                   'x2': [14, 12, 12, 13, 7, 8, 7, 4, 6, 5]})"
      ],
      "metadata": {
        "id": "asNMSsAWHF2n"
      },
      "execution_count": null,
      "outputs": []
    },
    {
      "cell_type": "markdown",
      "source": [
        "###3. Performing leave one out cross validation to evaluate the performance"
      ],
      "metadata": {
        "id": "RTGXQAh7H-D1"
      }
    },
    {
      "cell_type": "code",
      "source": [
        "#define predictor and response variables\n",
        "X = df[['x1', 'x2']]\n",
        "y = df['y']\n",
        "\n",
        "#define cross-validation method to use\n",
        "cv = LeaveOneOut()\n",
        "\n",
        "#build multiple linear regression model\n",
        "model = LinearRegression()\n",
        "\n",
        "#use LOOCV to evaluate model\n",
        "scores = cross_val_score(model, X, y, scoring='neg_mean_absolute_error',\n",
        "                         cv=cv, n_jobs=-1)\n",
        "\n",
        "#view mean absolute error\n",
        "mean(absolute(scores))"
      ],
      "metadata": {
        "colab": {
          "base_uri": "https://localhost:8080/"
        },
        "id": "Pw-qJofVHJA6",
        "outputId": "08dd8fc9-5d5a-48e8-af20-089a4118ad85"
      },
      "execution_count": null,
      "outputs": [
        {
          "output_type": "execute_result",
          "data": {
            "text/plain": [
              "3.1461548083469726"
            ]
          },
          "metadata": {},
          "execution_count": 19
        }
      ]
    },
    {
      "cell_type": "markdown",
      "source": [
        "###4. Evaluating the models performance using root mean squared error(RMSE)"
      ],
      "metadata": {
        "id": "PUSUkxOFIysO"
      }
    },
    {
      "cell_type": "code",
      "source": [
        "#define predictor and response variables\n",
        "X = df[['x1', 'x2']]\n",
        "y = df['y']\n",
        "\n",
        "#define cross-validation method to use\n",
        "cv = LeaveOneOut()\n",
        "\n",
        "#build multiple linear regression model\n",
        "model = LinearRegression()\n",
        "\n",
        "#use LOOCV to evaluate model\n",
        "scores = cross_val_score(model, X, y, scoring='neg_mean_squared_error',\n",
        "                         cv=cv, n_jobs=-1)\n",
        "\n",
        "#view RMSE\n",
        "sqrt(mean(absolute(scores)))\n"
      ],
      "metadata": {
        "colab": {
          "base_uri": "https://localhost:8080/"
        },
        "id": "vKnPgWWYHRAt",
        "outputId": "fdc3e450-c531-498a-c6ee-b617d127587b"
      },
      "execution_count": null,
      "outputs": [
        {
          "output_type": "execute_result",
          "data": {
            "text/plain": [
              "3.619456476385567"
            ]
          },
          "metadata": {},
          "execution_count": 20
        }
      ]
    },
    {
      "cell_type": "markdown",
      "source": [
        "Create the data of your own. Perform leave one out cross validation (LOOCV) and calculate mean absolute Error and Root mean Squared Error."
      ],
      "metadata": {
        "id": "VxAS4hHwJFkl"
      }
    },
    {
      "cell_type": "code",
      "source": [
        "data = pd.DataFrame({\n",
        "    'y': [5, 7, 9, 10, 11, 13, 15, 18, 20, 21],\n",
        "    'x1': [1, 3, 5, 6, 7, 9, 10, 12, 14, 16],\n",
        "    'x2': [11, 10, 9, 6, 5, 7, 6, 8, 9, 12]\n",
        "})\n",
        "\n",
        "X = data[['x1', 'x2']]\n",
        "y = data['y']\n",
        "cv = LeaveOneOut()\n",
        "model = LinearRegression()\n",
        "\n",
        "mae_scores = cross_val_score(model, X, y, scoring='neg_mean_absolute_error', cv=cv, n_jobs=-1)\n",
        "mean_absolute_error_result = -np.mean(mae_scores)\n",
        "\n",
        "mse_scores = cross_val_score(model, X, y, scoring='neg_mean_squared_error', cv=cv, n_jobs=-1)\n",
        "root_mean_squared_error_result = np.sqrt(-np.mean(mse_scores))  # Convert to positive and take square root\n",
        "\n",
        "print(\"Mean Absolute Error:\", mean_absolute_error_result)\n",
        "print(\"Root Mean Squared Error:\", root_mean_squared_error_result)\n"
      ],
      "metadata": {
        "colab": {
          "base_uri": "https://localhost:8080/"
        },
        "id": "j2AZKGIjT9YJ",
        "outputId": "aeca0513-dc87-430a-af30-30fa9a2f030d"
      },
      "execution_count": null,
      "outputs": [
        {
          "output_type": "stream",
          "name": "stdout",
          "text": [
            "Mean Absolute Error: 0.6798549218198184\n",
            "Root Mean Squared Error: 0.8807516436124264\n"
          ]
        }
      ]
    },
    {
      "cell_type": "markdown",
      "source": [
        "###JackKnife Estimate of Parameters"
      ],
      "metadata": {
        "id": "ArgFaIlaL04u"
      }
    },
    {
      "cell_type": "code",
      "source": [
        "def jackknife(x, func):\n",
        "    \"\"\"Jackknife estimate of the estimator func\"\"\"\n",
        "    n = len(x)\n",
        "    idx = np.arange(n)\n",
        "    return np.sum(func(x[idx!=i]) for i in range(n))/float(n)"
      ],
      "metadata": {
        "id": "z8jw5LqfLBeZ"
      },
      "execution_count": null,
      "outputs": []
    },
    {
      "cell_type": "code",
      "source": [
        "# Jackknife estimate of standard deviation\n",
        "x = np.random.normal(0, 2, 100)\n",
        "jackknife(x, np.std)"
      ],
      "metadata": {
        "colab": {
          "base_uri": "https://localhost:8080/"
        },
        "id": "w7wEr5lbLHRm",
        "outputId": "3f12f011-dffa-4707-a4e2-b4db2c5e4a6f"
      },
      "execution_count": null,
      "outputs": [
        {
          "output_type": "stream",
          "name": "stderr",
          "text": [
            "<ipython-input-23-b8512b39dc37>:5: DeprecationWarning: Calling np.sum(generator) is deprecated, and in the future will give a different result. Use np.sum(np.fromiter(generator)) or the python sum builtin instead.\n",
            "  return np.sum(func(x[idx!=i]) for i in range(n))/float(n)\n"
          ]
        },
        {
          "output_type": "execute_result",
          "data": {
            "text/plain": [
              "2.024516859179026"
            ]
          },
          "metadata": {},
          "execution_count": 24
        }
      ]
    },
    {
      "cell_type": "code",
      "source": [
        "def jackknife_var(x, func):\n",
        "    \"\"\"Jackknife estiamte of the variance of the estimator func.\"\"\"\n",
        "    n = len(x)\n",
        "    idx = np.arange(n)\n",
        "    j_est = jackknife(x, func)\n",
        "    return (n-1)/(n + 0.0) * np.sum((func(x[idx!=i]) - j_est)**2.0\n",
        "                                    for i in range(n))"
      ],
      "metadata": {
        "id": "JUjWNfpILKNJ"
      },
      "execution_count": null,
      "outputs": []
    },
    {
      "cell_type": "code",
      "source": [
        "# estimate of the variance of an estimator\n",
        "jackknife_var(x, np.std)"
      ],
      "metadata": {
        "colab": {
          "base_uri": "https://localhost:8080/"
        },
        "id": "djWpfKo_LLVX",
        "outputId": "552110c5-431c-482f-d423-02ab5d5c915e"
      },
      "execution_count": null,
      "outputs": [
        {
          "output_type": "stream",
          "name": "stderr",
          "text": [
            "<ipython-input-23-b8512b39dc37>:5: DeprecationWarning: Calling np.sum(generator) is deprecated, and in the future will give a different result. Use np.sum(np.fromiter(generator)) or the python sum builtin instead.\n",
            "  return np.sum(func(x[idx!=i]) for i in range(n))/float(n)\n",
            "<ipython-input-25-e3604052b0eb>:6: DeprecationWarning: Calling np.sum(generator) is deprecated, and in the future will give a different result. Use np.sum(np.fromiter(generator)) or the python sum builtin instead.\n",
            "  return (n-1)/(n + 0.0) * np.sum((func(x[idx!=i]) - j_est)**2.0\n"
          ]
        },
        {
          "output_type": "execute_result",
          "data": {
            "text/plain": [
              "0.02287893371765606"
            ]
          },
          "metadata": {},
          "execution_count": 26
        }
      ]
    },
    {
      "cell_type": "markdown",
      "source": [
        "##Example"
      ],
      "metadata": {
        "id": "KODsJKtVMDAV"
      }
    },
    {
      "cell_type": "markdown",
      "source": [
        "####Jackknife confidence interval for the median"
      ],
      "metadata": {
        "id": "6dMQar84MGgu"
      }
    },
    {
      "cell_type": "markdown",
      "source": [
        "In this exercise, we will calculate the jackknife 95% CI for a non-standard estimator. Here, we will look at the median. Keep in mind that the variance of a jackknife estimator is n-1 times the variance of the individual jackknife sample estimates where n is the number of observations in the original sample. Here, you are now estimating the median length of the wrenches along with a 95% CI to ensure that the wrenches are within tolerance.**(Using the data of wrench_lengths provided in the bootstrap example)**"
      ],
      "metadata": {
        "id": "1esrLrB_MN4F"
      }
    },
    {
      "cell_type": "code",
      "source": [
        "np.random.seed(123)\n",
        "\n",
        "# Leave one observation out to get the jackknife sample and store the median length\n",
        "median_lengths = []\n",
        "index = np.arange(n)\n",
        "for i in range(n):\n",
        "    jk_sample = wrench_lengths[index != i]\n",
        "    median_lengths.append(np.median(jk_sample))\n",
        "\n",
        "median_lengths = np.array(median_lengths)\n",
        "\n",
        "# Calculate jackknife estimate and it's variance\n",
        "jk_median_length = np.mean(median_lengths)\n",
        "jk_var = (n-1)*np.var(median_lengths)\n",
        "\n",
        "# Assuming normality, calculate lower and upper 95% confidence intervals\n",
        "jk_lower_ci = jk_median_length - 1.96 * np.sqrt(jk_var)\n",
        "jk_upper_ci = jk_median_length + 1.96 * np.sqrt(jk_var)\n",
        "print(\"Jackknife 95% CI lower = {}, upper = {}\".format(jk_lower_ci, jk_upper_ci))"
      ],
      "metadata": {
        "colab": {
          "base_uri": "https://localhost:8080/"
        },
        "id": "NgXiwq9lMubE",
        "outputId": "ac5e4187-51f0-49ea-b65b-73056ed0e760"
      },
      "execution_count": null,
      "outputs": [
        {
          "output_type": "stream",
          "name": "stdout",
          "text": [
            "Jackknife 95% CI lower = 9.138592415216381, upper = 10.754868124783625\n"
          ]
        }
      ]
    },
    {
      "cell_type": "markdown",
      "source": [
        "##Task 4:**(20%)**\n",
        "Basic Jackknife estimation - mean\n",
        "\n"
      ],
      "metadata": {
        "id": "Y3k-CJlrNxAD"
      }
    },
    {
      "cell_type": "markdown",
      "source": [
        "Calculate jackknife estimate for the mean. You own a wrench factory and want to measure the average length of the wrenches to ensure that they meet some specifications. Your factory produces thousands of wrenches every day, but it's infeasible to measure the length of each wrench. However, you have access to a representative sample of 100 wrenches. Let's use jackknife estimation to get the average lengths.**(Use the data of wrench lengths provided in the bootstrap example)**."
      ],
      "metadata": {
        "id": "Jf1gMoyIOB83"
      }
    },
    {
      "cell_type": "code",
      "source": [
        "import numpy as np\n",
        "n = len(wrench_lengths)\n",
        "np.random.seed(123)\n",
        "mean_lengths = []\n",
        "index = np.arange(n)\n",
        "for i in range(n):\n",
        "    jk_sample = np.array(wrench_lengths)[index != i]\n",
        "    mean_lengths.append(np.mean(jk_sample))\n",
        "\n",
        "mean_lengths = np.array(mean_lengths)\n",
        "\n",
        "jk_mean_length = np.mean(mean_lengths)\n",
        "jk_var = (n - 1) * np.var(mean_lengths)\n",
        "\n",
        "jk_lower_ci = jk_mean_length - 1.96 * np.sqrt(jk_var)\n",
        "jk_upper_ci = jk_mean_length + 1.96 * np.sqrt(jk_var)\n",
        "\n",
        "print(\"Jackknife Mean Length Estimate:\", jk_mean_length)\n",
        "print(\"Jackknife 95% CI lower =\", jk_lower_ci, \", upper =\", jk_upper_ci)\n"
      ],
      "metadata": {
        "colab": {
          "base_uri": "https://localhost:8080/"
        },
        "id": "7ZfvxadGVEBS",
        "outputId": "3621ce8a-94ed-4c1a-975f-20edb7e5fb0f"
      },
      "execution_count": null,
      "outputs": [
        {
          "output_type": "stream",
          "name": "stdout",
          "text": [
            "Jackknife Mean Length Estimate: 10.027109074099998\n",
            "Jackknife 95% CI lower = 9.804859903949128 , upper = 10.24935824425087\n"
          ]
        }
      ]
    }
  ]
}